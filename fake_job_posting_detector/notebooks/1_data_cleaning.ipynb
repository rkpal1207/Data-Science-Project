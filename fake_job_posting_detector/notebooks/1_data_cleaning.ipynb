{
 "cells": [
  {
   "cell_type": "code",
   "execution_count": 1,
   "id": "8ebff7d1-1236-44a2-8039-0fa9ddfa0d20",
   "metadata": {},
   "outputs": [],
   "source": [
    "# 1. Import Libraries\n",
    "import pandas as pd\n",
    "import os"
   ]
  },
  {
   "cell_type": "code",
   "execution_count": 2,
   "id": "b2ab2395-c046-460c-84c3-d411f1a70dc7",
   "metadata": {},
   "outputs": [
    {
     "name": "stdout",
     "output_type": "stream",
     "text": [
      "Shape: (17880, 18)\n",
      "Missing values:\n",
      " job_id                     0\n",
      "title                      0\n",
      "location                 346\n",
      "department             11547\n",
      "salary_range           15012\n",
      "company_profile         3308\n",
      "description                1\n",
      "requirements            2696\n",
      "benefits                7212\n",
      "telecommuting              0\n",
      "has_company_logo           0\n",
      "has_questions              0\n",
      "employment_type         3471\n",
      "required_experience     7050\n",
      "required_education      8105\n",
      "industry                4903\n",
      "function                6455\n",
      "fraudulent                 0\n",
      "dtype: int64\n"
     ]
    }
   ],
   "source": [
    "# 2. Load Raw Dataset\n",
    "raw_data_path = '../data/fake_job_postings.csv'  # adjust if needed\n",
    "df = pd.read_csv(raw_data_path)\n",
    "\n",
    "# 3. Inspect Basic Info\n",
    "print(\"Shape:\", df.shape)\n",
    "print(\"Missing values:\\n\", df.isnull().sum())"
   ]
  },
  {
   "cell_type": "code",
   "execution_count": 3,
   "id": "1075acdb-9df8-41d3-be62-271b8e4358c0",
   "metadata": {},
   "outputs": [],
   "source": [
    "\n",
    "# 4. Drop low-value or irrelevant columns\n",
    "drop_cols = ['telecommuting', 'has_company_logo', 'has_questions', 'salary_range']\n",
    "df.drop(columns=drop_cols, inplace=True)\n",
    "\n",
    "# 5. Fill missing text fields with empty strings\n",
    "text_cols = ['company_profile', 'description', 'requirements', 'benefits']\n",
    "df[text_cols] = df[text_cols].fillna('')"
   ]
  },
  {
   "cell_type": "code",
   "execution_count": 4,
   "id": "02460400-2c06-4f7c-8247-c2a72dafd34a",
   "metadata": {},
   "outputs": [],
   "source": [
    "# 6. Combine text columns into one 'text' column\n",
    "df['text'] = (\n",
    "    df['title'] + ' ' +\n",
    "    df['company_profile'] + ' ' +\n",
    "    df['description'] + ' ' +\n",
    "    df['requirements'] + ' ' +\n",
    "    df['benefits']\n",
    ")\n",
    "\n",
    "# 7. Drop rows with empty 'text'\n",
    "df['text'] = df['text'].str.strip()\n",
    "df = df[df['text'].astype(bool)]\n",
    "\n",
    "# 8. Keep only 'text' and 'fraudulent' columns\n",
    "df_cleaned = df[['text', 'fraudulent']]"
   ]
  },
  {
   "cell_type": "code",
   "execution_count": 5,
   "id": "6873b065-e83f-45dc-985c-6767d28b476b",
   "metadata": {},
   "outputs": [
    {
     "name": "stdout",
     "output_type": "stream",
     "text": [
      "✅ Cleaned data saved to: ../data/cleaned_data_jobs.csv\n",
      "Shape of cleaned data: (17880, 2)\n"
     ]
    },
    {
     "data": {
      "text/html": [
       "<div>\n",
       "<style scoped>\n",
       "    .dataframe tbody tr th:only-of-type {\n",
       "        vertical-align: middle;\n",
       "    }\n",
       "\n",
       "    .dataframe tbody tr th {\n",
       "        vertical-align: top;\n",
       "    }\n",
       "\n",
       "    .dataframe thead th {\n",
       "        text-align: right;\n",
       "    }\n",
       "</style>\n",
       "<table border=\"1\" class=\"dataframe\">\n",
       "  <thead>\n",
       "    <tr style=\"text-align: right;\">\n",
       "      <th></th>\n",
       "      <th>text</th>\n",
       "      <th>fraudulent</th>\n",
       "    </tr>\n",
       "  </thead>\n",
       "  <tbody>\n",
       "    <tr>\n",
       "      <th>16583</th>\n",
       "      <td>Outside sales representative With over 200 emp...</td>\n",
       "      <td>0</td>\n",
       "    </tr>\n",
       "    <tr>\n",
       "      <th>3799</th>\n",
       "      <td>Oracle DBA PROSULTING IS PEOPLE The ProSulting...</td>\n",
       "      <td>0</td>\n",
       "    </tr>\n",
       "    <tr>\n",
       "      <th>10872</th>\n",
       "      <td>Hardware Systems Design Engineer (US) PowerbyP...</td>\n",
       "      <td>0</td>\n",
       "    </tr>\n",
       "    <tr>\n",
       "      <th>8039</th>\n",
       "      <td>Senior C# Developer Industrial Color Software ...</td>\n",
       "      <td>0</td>\n",
       "    </tr>\n",
       "    <tr>\n",
       "      <th>3465</th>\n",
       "      <td>Functional Writer Located in the heart of down...</td>\n",
       "      <td>0</td>\n",
       "    </tr>\n",
       "  </tbody>\n",
       "</table>\n",
       "</div>"
      ],
      "text/plain": [
       "                                                    text  fraudulent\n",
       "16583  Outside sales representative With over 200 emp...           0\n",
       "3799   Oracle DBA PROSULTING IS PEOPLE The ProSulting...           0\n",
       "10872  Hardware Systems Design Engineer (US) PowerbyP...           0\n",
       "8039   Senior C# Developer Industrial Color Software ...           0\n",
       "3465   Functional Writer Located in the heart of down...           0"
      ]
     },
     "execution_count": 5,
     "metadata": {},
     "output_type": "execute_result"
    }
   ],
   "source": [
    "# 9. Save cleaned data\n",
    "cleaned_data_path = '../data/cleaned_data_jobs.csv'\n",
    "os.makedirs(os.path.dirname(cleaned_data_path), exist_ok=True)\n",
    "df_cleaned.to_csv(cleaned_data_path, index=False)\n",
    "\n",
    "print(f\"✅ Cleaned data saved to: {cleaned_data_path}\")\n",
    "print(\"Shape of cleaned data:\", df_cleaned.shape)\n",
    "\n",
    "# 10. Optional: Preview cleaned data\n",
    "df_cleaned.sample(5)"
   ]
  },
  {
   "cell_type": "code",
   "execution_count": 6,
   "id": "95c50e9c-e7e2-44a1-89ab-9bbbfe7a3da2",
   "metadata": {},
   "outputs": [
    {
     "name": "stderr",
     "output_type": "stream",
     "text": [
      "[nltk_data] Downloading package punkt to\n",
      "[nltk_data]     C:\\Users\\palre\\AppData\\Roaming\\nltk_data...\n",
      "[nltk_data]   Package punkt is already up-to-date!\n",
      "[nltk_data] Downloading package stopwords to\n",
      "[nltk_data]     C:\\Users\\palre\\AppData\\Roaming\\nltk_data...\n",
      "[nltk_data]   Package stopwords is already up-to-date!\n",
      "[nltk_data] Downloading package wordnet to\n",
      "[nltk_data]     C:\\Users\\palre\\AppData\\Roaming\\nltk_data...\n",
      "[nltk_data]   Package wordnet is already up-to-date!\n"
     ]
    },
    {
     "name": "stdout",
     "output_type": "stream",
     "text": [
      "✅ Loaded data. Shape: (17880, 2)\n"
     ]
    }
   ],
   "source": [
    "# 1. Imports\n",
    "import pandas as pd\n",
    "import re\n",
    "import nltk\n",
    "import os\n",
    "from nltk.corpus import stopwords\n",
    "from nltk.stem import WordNetLemmatizer\n",
    "from sklearn.feature_extraction.text import TfidfVectorizer\n",
    "from sklearn.model_selection import train_test_split\n",
    "from joblib import dump\n",
    "\n",
    "# 2. Download NLTK resources (only runs once)\n",
    "nltk.download('punkt')\n",
    "nltk.download('stopwords')\n",
    "nltk.download('wordnet')\n",
    "\n",
    "# 3. Load cleaned data\n",
    "df = pd.read_csv('../data/cleaned_data_jobs.csv')  # <- Adjust path if needed\n",
    "print(\"✅ Loaded data. Shape:\", df.shape)"
   ]
  },
  {
   "cell_type": "code",
   "execution_count": null,
   "id": "3fa082ff-fc57-4965-b080-96d2c8699b73",
   "metadata": {},
   "outputs": [],
   "source": []
  }
 ],
 "metadata": {
  "kernelspec": {
   "display_name": "Python (trendsense-env)",
   "language": "python",
   "name": "trendsense-env"
  },
  "language_info": {
   "codemirror_mode": {
    "name": "ipython",
    "version": 3
   },
   "file_extension": ".py",
   "mimetype": "text/x-python",
   "name": "python",
   "nbconvert_exporter": "python",
   "pygments_lexer": "ipython3",
   "version": "3.10.18"
  }
 },
 "nbformat": 4,
 "nbformat_minor": 5
}
