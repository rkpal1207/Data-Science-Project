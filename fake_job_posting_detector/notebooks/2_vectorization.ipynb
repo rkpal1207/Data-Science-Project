{
 "cells": [
  {
   "cell_type": "code",
   "execution_count": 1,
   "id": "f3fd0242-8386-48bf-b0c5-321d5ba03ff9",
   "metadata": {},
   "outputs": [
    {
     "name": "stderr",
     "output_type": "stream",
     "text": [
      "[nltk_data] Downloading package punkt to\n",
      "[nltk_data]     C:\\Users\\palre\\AppData\\Roaming\\nltk_data...\n",
      "[nltk_data]   Package punkt is already up-to-date!\n",
      "[nltk_data] Downloading package stopwords to\n",
      "[nltk_data]     C:\\Users\\palre\\AppData\\Roaming\\nltk_data...\n",
      "[nltk_data]   Package stopwords is already up-to-date!\n",
      "[nltk_data] Downloading package wordnet to\n",
      "[nltk_data]     C:\\Users\\palre\\AppData\\Roaming\\nltk_data...\n",
      "[nltk_data]   Package wordnet is already up-to-date!\n"
     ]
    },
    {
     "name": "stdout",
     "output_type": "stream",
     "text": [
      "✅ Loaded data. Shape: (17880, 2)\n"
     ]
    }
   ],
   "source": [
    "# 1. Imports\n",
    "import pandas as pd\n",
    "import re\n",
    "import nltk\n",
    "import os\n",
    "from nltk.corpus import stopwords\n",
    "from nltk.stem import WordNetLemmatizer\n",
    "from sklearn.feature_extraction.text import TfidfVectorizer\n",
    "from sklearn.model_selection import train_test_split\n",
    "from joblib import dump\n",
    "\n",
    "# 2. Download NLTK resources (only runs once)\n",
    "nltk.download('punkt')\n",
    "nltk.download('stopwords')\n",
    "nltk.download('wordnet')\n",
    "\n",
    "# 3. Load cleaned data\n",
    "df = pd.read_csv('../data/cleaned_data_jobs.csv')  # <- Adjust path if needed\n",
    "print(\"✅ Loaded data. Shape:\", df.shape)"
   ]
  },
  {
   "cell_type": "code",
   "execution_count": 2,
   "id": "59ed6ead-da89-4ec3-8180-b59b1f7622d7",
   "metadata": {},
   "outputs": [],
   "source": [
    "# 5. Define NLP cleaning function\n",
    "stop_words = set(stopwords.words('english'))\n",
    "lemmatizer = WordNetLemmatizer()"
   ]
  },
  {
   "cell_type": "code",
   "execution_count": 3,
   "id": "35a5183a-8b2b-4cc7-8dc6-2dc3325b13b8",
   "metadata": {},
   "outputs": [],
   "source": [
    "def clean_text(text):\n",
    "    text = text.lower()\n",
    "    text = re.sub(r'[^a-zA-Z]', ' ', text)  # Remove punctuation and digits\n",
    "    tokens = nltk.word_tokenize(text)\n",
    "    tokens = [lemmatizer.lemmatize(word) for word in tokens\n",
    "              if word not in stop_words and len(word) > 2]\n",
    "    return ' '.join(tokens)"
   ]
  },
  {
   "cell_type": "code",
   "execution_count": 4,
   "id": "d24334c4-a082-45e3-99fc-c1ad7f367e51",
   "metadata": {},
   "outputs": [
    {
     "name": "stdout",
     "output_type": "stream",
     "text": [
      "✅ TF-IDF complete. Train shape: (14304, 5000)\n"
     ]
    }
   ],
   "source": [
    "# 6. Apply NLP preprocessing\n",
    "df['clean_text'] = df['text'].apply(clean_text)\n",
    "\n",
    "# 7. Vectorize text using TF-IDF\n",
    "tfidf = TfidfVectorizer(max_features=5000)\n",
    "X = tfidf.fit_transform(df['clean_text'])\n",
    "y = df['fraudulent']\n",
    "\n",
    "# 8. Train/Test split\n",
    "X_train, X_test, y_train, y_test = train_test_split(\n",
    "    X, y, test_size=0.2, stratify=y, random_state=42\n",
    ")\n",
    "\n",
    "print(\"✅ TF-IDF complete. Train shape:\", X_train.shape)"
   ]
  },
  {
   "cell_type": "code",
   "execution_count": 6,
   "id": "faa5cf7a-61b0-430c-86e4-8ab95ca512f3",
   "metadata": {},
   "outputs": [],
   "source": [
    "from pathlib import Path\n",
    "base_dir = Path.cwd().parent"
   ]
  },
  {
   "cell_type": "code",
   "execution_count": 7,
   "id": "37d5049a-f63e-423c-b1fb-efa3594ec65f",
   "metadata": {},
   "outputs": [
    {
     "name": "stdout",
     "output_type": "stream",
     "text": [
      "✅ TF-IDF vectorizer and train/test splits saved.\n"
     ]
    }
   ],
   "source": [
    "# 9. Save vectorizer and splits\n",
    "model_dir = base_dir / 'models'\n",
    "processed_dir = base_dir / 'data' / 'processed'\n",
    "os.makedirs(model_dir, exist_ok=True)\n",
    "os.makedirs(processed_dir, exist_ok=True)\n",
    "\n",
    "dump(tfidf, model_dir / 'tfidf_vectorizer.joblib')\n",
    "dump((X_train, X_test, y_train, y_test), processed_dir / 'train_test_split.joblib')\n",
    "\n",
    "print(\"✅ TF-IDF vectorizer and train/test splits saved.\")"
   ]
  },
  {
   "cell_type": "code",
   "execution_count": null,
   "id": "aa32234f-1138-4fbf-a0eb-cad1c8bf6b6a",
   "metadata": {},
   "outputs": [],
   "source": []
  }
 ],
 "metadata": {
  "kernelspec": {
   "display_name": "Python (trendsense-env)",
   "language": "python",
   "name": "trendsense-env"
  },
  "language_info": {
   "codemirror_mode": {
    "name": "ipython",
    "version": 3
   },
   "file_extension": ".py",
   "mimetype": "text/x-python",
   "name": "python",
   "nbconvert_exporter": "python",
   "pygments_lexer": "ipython3",
   "version": "3.10.18"
  }
 },
 "nbformat": 4,
 "nbformat_minor": 5
}
